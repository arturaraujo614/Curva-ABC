{
 "cells": [
  {
   "cell_type": "code",
   "execution_count": 1,
   "metadata": {},
   "outputs": [],
   "source": [
    "import pandas as pd"
   ]
  },
  {
   "cell_type": "markdown",
   "metadata": {},
   "source": [
    "Importanto Dados"
   ]
  },
  {
   "cell_type": "code",
   "execution_count": 7,
   "metadata": {},
   "outputs": [],
   "source": [
    "dados_bruto = pd.read_excel(\"dados.xlsx\")\n",
    "dados_bruto['Preco Médio']= dados_bruto['Bruto']/dados_bruto['Quantidade']"
   ]
  },
  {
   "cell_type": "code",
   "execution_count": 8,
   "metadata": {},
   "outputs": [],
   "source": [
    "grupo_servicos = dados_bruto.groupby('Produto/serviço')"
   ]
  },
  {
   "cell_type": "markdown",
   "metadata": {},
   "source": [
    "Tratando os Dados"
   ]
  },
  {
   "cell_type": "code",
   "execution_count": 10,
   "metadata": {},
   "outputs": [
    {
     "name": "stderr",
     "output_type": "stream",
     "text": [
      "C:\\Users\\artur\\AppData\\Local\\Temp\\ipykernel_10232\\2154302827.py:1: FutureWarning: Indexing with multiple keys (implicitly converted to a tuple of keys) will be deprecated, use a list instead.\n",
      "  metricas = grupo_servicos['Quantidade','Bruto'].sum()\n"
     ]
    }
   ],
   "source": [
    "metricas = grupo_servicos['Quantidade','Bruto'].sum()\n",
    "metricas ['Preco Medio'] = grupo_servicos['Preco Médio'].mean()\n",
    "metricas ['%'] = (metricas['Bruto']/metricas['Bruto'].sum())*100\n",
    "    "
   ]
  },
  {
   "cell_type": "code",
   "execution_count": 12,
   "metadata": {},
   "outputs": [],
   "source": [
    "metricas.sort_values('%',ascending=False,inplace=True)\n",
    "metricas['% Acumulado'] = metricas['%'].cumsum().round(2)\n"
   ]
  },
  {
   "cell_type": "code",
   "execution_count": 13,
   "metadata": {},
   "outputs": [],
   "source": [
    "precificacao = metricas[metricas['% Acumulado']<=80.00].round(2)"
   ]
  },
  {
   "cell_type": "markdown",
   "metadata": {},
   "source": [
    "Exportando o Arquivo"
   ]
  },
  {
   "cell_type": "code",
   "execution_count": 14,
   "metadata": {},
   "outputs": [],
   "source": [
    "precificacao['Comissão']    = ''\n",
    "precificacao['Imposto']     = ''\n",
    "precificacao['Insumos/CMV'] = ''\n",
    "precificacao['Terceiros']   = ''\n",
    "precificacao['Volante']     = ''"
   ]
  },
  {
   "cell_type": "code",
   "execution_count": 15,
   "metadata": {},
   "outputs": [],
   "source": [
    "precificacao.to_excel('precificacao.xlsx')"
   ]
  }
 ],
 "metadata": {
  "kernelspec": {
   "display_name": "Python 3.9.12 ('base')",
   "language": "python",
   "name": "python3"
  },
  "language_info": {
   "codemirror_mode": {
    "name": "ipython",
    "version": 3
   },
   "file_extension": ".py",
   "mimetype": "text/x-python",
   "name": "python",
   "nbconvert_exporter": "python",
   "pygments_lexer": "ipython3",
   "version": "3.9.12"
  },
  "orig_nbformat": 4,
  "vscode": {
   "interpreter": {
    "hash": "5f1b78eb436411a9c3c2406ff65dd6a2a483e2b78ec2ae8c1343ef3e593983b6"
   }
  }
 },
 "nbformat": 4,
 "nbformat_minor": 2
}
