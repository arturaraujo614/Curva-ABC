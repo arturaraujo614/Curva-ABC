{
 "cells": [
  {
   "cell_type": "code",
   "execution_count": null,
   "metadata": {},
   "outputs": [],
   "source": [
    "import pandas as pd"
   ]
  },
  {
   "cell_type": "markdown",
   "metadata": {},
   "source": [
    "Importando os Dados"
   ]
  },
  {
   "cell_type": "code",
   "execution_count": null,
   "metadata": {},
   "outputs": [],
   "source": [
    "dados_bruto = pd.read_excel(\"Depara - Vendas.xlsx\")\n",
    "dados_bruto['Quantidade']= dados_bruto['T Venda']/dados_bruto['Venda.1']\n",
    "dados_bruto['Preco Médio']= dados_bruto['T Venda']/dados_bruto['Quantidade']\n",
    "dados_bruto.head(2)"
   ]
  },
  {
   "cell_type": "code",
   "execution_count": null,
   "metadata": {},
   "outputs": [],
   "source": [
    "grupo_servicos = dados_bruto.groupby('Descrição')"
   ]
  },
  {
   "cell_type": "markdown",
   "metadata": {},
   "source": [
    "Tratando os Dados"
   ]
  },
  {
   "cell_type": "code",
   "execution_count": null,
   "metadata": {},
   "outputs": [],
   "source": [
    "\n",
    "metricas = grupo_servicos['Quantidade','T Venda'].sum()\n",
    "metricas ['Preco Medio'] = grupo_servicos['Preco Médio'].mean()\n",
    "metricas ['%'] = (metricas['T Venda']/metricas['T Venda'].sum())*100\n",
    "metricas\n",
    "\n",
    "    "
   ]
  },
  {
   "cell_type": "code",
   "execution_count": null,
   "metadata": {},
   "outputs": [],
   "source": [
    "metricas.sort_values('%',ascending=False,inplace=True)\n",
    "metricas['% Acumulado'] = metricas['%'].cumsum().round(2)\n",
    "metricas\n"
   ]
  },
  {
   "cell_type": "code",
   "execution_count": null,
   "metadata": {},
   "outputs": [],
   "source": [
    "precificacao = metricas[metricas['% Acumulado']<=80.00].round(2)"
   ]
  },
  {
   "cell_type": "markdown",
   "metadata": {},
   "source": [
    "Preparando para exportação"
   ]
  },
  {
   "cell_type": "code",
   "execution_count": null,
   "metadata": {},
   "outputs": [],
   "source": [
    "precificacao['Comissão']    = ''\n",
    "precificacao['Imposto']     = ''\n",
    "precificacao['Insumos/CMV'] = ''\n",
    "precificacao['Terceiros']   = ''\n",
    "precificacao['Volante']     = ''"
   ]
  },
  {
   "cell_type": "code",
   "execution_count": null,
   "metadata": {},
   "outputs": [],
   "source": [
    "precificacao.to_excel('precificacao.xlsx')"
   ]
  }
 ],
 "metadata": {
  "kernelspec": {
   "display_name": "Python 3.9.12 ('base')",
   "language": "python",
   "name": "python3"
  },
  "language_info": {
   "codemirror_mode": {
    "name": "ipython",
    "version": 3
   },
   "file_extension": ".py",
   "mimetype": "text/x-python",
   "name": "python",
   "nbconvert_exporter": "python",
   "pygments_lexer": "ipython3",
   "version": "3.9.12"
  },
  "orig_nbformat": 4,
  "vscode": {
   "interpreter": {
    "hash": "5f1b78eb436411a9c3c2406ff65dd6a2a483e2b78ec2ae8c1343ef3e593983b6"
   }
  }
 },
 "nbformat": 4,
 "nbformat_minor": 2
}
